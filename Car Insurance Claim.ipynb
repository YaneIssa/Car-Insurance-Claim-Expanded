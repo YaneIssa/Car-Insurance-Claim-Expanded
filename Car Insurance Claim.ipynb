{
 "cells": [
  {
   "cell_type": "code",
   "execution_count": 9,
   "id": "60b8d363-6c41-404c-836f-d769f3fe4b60",
   "metadata": {},
   "outputs": [
    {
     "data": {
      "text/html": [
       "<div>\n",
       "<style scoped>\n",
       "    .dataframe tbody tr th:only-of-type {\n",
       "        vertical-align: middle;\n",
       "    }\n",
       "\n",
       "    .dataframe tbody tr th {\n",
       "        vertical-align: top;\n",
       "    }\n",
       "\n",
       "    .dataframe thead th {\n",
       "        text-align: right;\n",
       "    }\n",
       "</style>\n",
       "<table border=\"1\" class=\"dataframe\">\n",
       "  <thead>\n",
       "    <tr style=\"text-align: right;\">\n",
       "      <th></th>\n",
       "      <th>ID</th>\n",
       "      <th>AGE</th>\n",
       "      <th>GENDER</th>\n",
       "      <th>RACE</th>\n",
       "      <th>DRIVING_EXPERIENCE</th>\n",
       "      <th>EDUCATION</th>\n",
       "      <th>INCOME</th>\n",
       "      <th>CREDIT_SCORE</th>\n",
       "      <th>VEHICLE_OWNERSHIP</th>\n",
       "      <th>VEHICLE_YEAR</th>\n",
       "      <th>MARRIED</th>\n",
       "      <th>CHILDREN</th>\n",
       "      <th>POSTAL_CODE</th>\n",
       "      <th>ANNUAL_MILEAGE</th>\n",
       "      <th>VEHICLE_TYPE</th>\n",
       "      <th>SPEEDING_VIOLATIONS</th>\n",
       "      <th>DUIS</th>\n",
       "      <th>PAST_ACCIDENTS</th>\n",
       "      <th>OUTCOME</th>\n",
       "    </tr>\n",
       "  </thead>\n",
       "  <tbody>\n",
       "    <tr>\n",
       "      <th>0</th>\n",
       "      <td>569520</td>\n",
       "      <td>65+</td>\n",
       "      <td>female</td>\n",
       "      <td>majority</td>\n",
       "      <td>0-9y</td>\n",
       "      <td>high school</td>\n",
       "      <td>upper class</td>\n",
       "      <td>0.629027</td>\n",
       "      <td>1.0</td>\n",
       "      <td>after 2015</td>\n",
       "      <td>0.0</td>\n",
       "      <td>1.0</td>\n",
       "      <td>10238</td>\n",
       "      <td>12000.0</td>\n",
       "      <td>sedan</td>\n",
       "      <td>0</td>\n",
       "      <td>0</td>\n",
       "      <td>0</td>\n",
       "      <td>0.0</td>\n",
       "    </tr>\n",
       "    <tr>\n",
       "      <th>1</th>\n",
       "      <td>750365</td>\n",
       "      <td>16-25</td>\n",
       "      <td>male</td>\n",
       "      <td>majority</td>\n",
       "      <td>0-9y</td>\n",
       "      <td>none</td>\n",
       "      <td>poverty</td>\n",
       "      <td>0.357757</td>\n",
       "      <td>0.0</td>\n",
       "      <td>before 2015</td>\n",
       "      <td>0.0</td>\n",
       "      <td>0.0</td>\n",
       "      <td>10238</td>\n",
       "      <td>16000.0</td>\n",
       "      <td>sedan</td>\n",
       "      <td>0</td>\n",
       "      <td>0</td>\n",
       "      <td>0</td>\n",
       "      <td>1.0</td>\n",
       "    </tr>\n",
       "    <tr>\n",
       "      <th>2</th>\n",
       "      <td>199901</td>\n",
       "      <td>16-25</td>\n",
       "      <td>female</td>\n",
       "      <td>majority</td>\n",
       "      <td>0-9y</td>\n",
       "      <td>high school</td>\n",
       "      <td>working class</td>\n",
       "      <td>0.493146</td>\n",
       "      <td>1.0</td>\n",
       "      <td>before 2015</td>\n",
       "      <td>0.0</td>\n",
       "      <td>0.0</td>\n",
       "      <td>10238</td>\n",
       "      <td>11000.0</td>\n",
       "      <td>sedan</td>\n",
       "      <td>0</td>\n",
       "      <td>0</td>\n",
       "      <td>0</td>\n",
       "      <td>0.0</td>\n",
       "    </tr>\n",
       "    <tr>\n",
       "      <th>3</th>\n",
       "      <td>478866</td>\n",
       "      <td>16-25</td>\n",
       "      <td>male</td>\n",
       "      <td>majority</td>\n",
       "      <td>0-9y</td>\n",
       "      <td>university</td>\n",
       "      <td>working class</td>\n",
       "      <td>0.206013</td>\n",
       "      <td>1.0</td>\n",
       "      <td>before 2015</td>\n",
       "      <td>0.0</td>\n",
       "      <td>1.0</td>\n",
       "      <td>32765</td>\n",
       "      <td>11000.0</td>\n",
       "      <td>sedan</td>\n",
       "      <td>0</td>\n",
       "      <td>0</td>\n",
       "      <td>0</td>\n",
       "      <td>0.0</td>\n",
       "    </tr>\n",
       "    <tr>\n",
       "      <th>4</th>\n",
       "      <td>731664</td>\n",
       "      <td>26-39</td>\n",
       "      <td>male</td>\n",
       "      <td>majority</td>\n",
       "      <td>10-19y</td>\n",
       "      <td>none</td>\n",
       "      <td>working class</td>\n",
       "      <td>0.388366</td>\n",
       "      <td>1.0</td>\n",
       "      <td>before 2015</td>\n",
       "      <td>0.0</td>\n",
       "      <td>0.0</td>\n",
       "      <td>32765</td>\n",
       "      <td>12000.0</td>\n",
       "      <td>sedan</td>\n",
       "      <td>2</td>\n",
       "      <td>0</td>\n",
       "      <td>1</td>\n",
       "      <td>1.0</td>\n",
       "    </tr>\n",
       "  </tbody>\n",
       "</table>\n",
       "</div>"
      ],
      "text/plain": [
       "       ID    AGE  GENDER      RACE DRIVING_EXPERIENCE    EDUCATION  \\\n",
       "0  569520    65+  female  majority               0-9y  high school   \n",
       "1  750365  16-25    male  majority               0-9y         none   \n",
       "2  199901  16-25  female  majority               0-9y  high school   \n",
       "3  478866  16-25    male  majority               0-9y   university   \n",
       "4  731664  26-39    male  majority             10-19y         none   \n",
       "\n",
       "          INCOME  CREDIT_SCORE  VEHICLE_OWNERSHIP VEHICLE_YEAR  MARRIED  \\\n",
       "0    upper class      0.629027                1.0   after 2015      0.0   \n",
       "1        poverty      0.357757                0.0  before 2015      0.0   \n",
       "2  working class      0.493146                1.0  before 2015      0.0   \n",
       "3  working class      0.206013                1.0  before 2015      0.0   \n",
       "4  working class      0.388366                1.0  before 2015      0.0   \n",
       "\n",
       "   CHILDREN  POSTAL_CODE  ANNUAL_MILEAGE VEHICLE_TYPE  SPEEDING_VIOLATIONS  \\\n",
       "0       1.0        10238         12000.0        sedan                    0   \n",
       "1       0.0        10238         16000.0        sedan                    0   \n",
       "2       0.0        10238         11000.0        sedan                    0   \n",
       "3       1.0        32765         11000.0        sedan                    0   \n",
       "4       0.0        32765         12000.0        sedan                    2   \n",
       "\n",
       "   DUIS  PAST_ACCIDENTS  OUTCOME  \n",
       "0     0               0      0.0  \n",
       "1     0               0      1.0  \n",
       "2     0               0      0.0  \n",
       "3     0               0      0.0  \n",
       "4     0               1      1.0  "
      ]
     },
     "execution_count": 9,
     "metadata": {},
     "output_type": "execute_result"
    }
   ],
   "source": [
    "import pandas as pd\n",
    "df = pd.read_csv('Car_Insurance_Claim.csv')\n",
    "df.head()"
   ]
  },
  {
   "cell_type": "code",
   "execution_count": 7,
   "id": "35e63cd0-5830-47d9-9ad7-2497aea6519e",
   "metadata": {},
   "outputs": [
    {
     "data": {
      "text/plain": [
       "(10000, 19)"
      ]
     },
     "execution_count": 7,
     "metadata": {},
     "output_type": "execute_result"
    }
   ],
   "source": [
    "df.shape"
   ]
  },
  {
   "cell_type": "code",
   "execution_count": 23,
   "id": "a53a1417-84f5-4937-9cc0-448765f61786",
   "metadata": {},
   "outputs": [
    {
     "name": "stdout",
     "output_type": "stream",
     "text": [
      "Index(['ID', 'AGE', 'GENDER', 'RACE', 'DRIVING_EXPERIENCE', 'EDUCATION',\n",
      "       'INCOME', 'CREDIT_SCORE', 'VEHICLE_OWNERSHIP', 'VEHICLE_YEAR',\n",
      "       'MARRIED', 'CHILDREN', 'POSTAL_CODE', 'ANNUAL_MILEAGE', 'VEHICLE_TYPE',\n",
      "       'SPEEDING_VIOLATIONS', 'DUIS', 'PAST_ACCIDENTS', 'OUTCOME'],\n",
      "      dtype='object')\n"
     ]
    }
   ],
   "source": [
    "print(df.columns)"
   ]
  },
  {
   "cell_type": "code",
   "execution_count": 75,
   "id": "45055613-706f-4539-b8c2-4f0e3c1b75c4",
   "metadata": {},
   "outputs": [
    {
     "name": "stdout",
     "output_type": "stream",
     "text": [
      "['ID', 'AGE', 'GENDER', 'RACE', 'DRIVING_EXPERIENCE', 'EDUCATION', 'INCOME', 'CREDIT_SCORE', 'VEHICLE_OWNERSHIP', 'VEHICLE_YEAR', 'MARRIED', 'CHILDREN', 'POSTAL_CODE', 'ANNUAL_MILEAGE', 'VEHICLE_TYPE', 'SPEEDING_VIOLATIONS', 'DUIS', 'PAST_ACCIDENTS', 'OUTCOME']\n"
     ]
    }
   ],
   "source": [
    "print(list(df.columns))"
   ]
  },
  {
   "cell_type": "code",
   "execution_count": 9,
   "id": "717365db-6cd8-496f-aed9-bce5c243040a",
   "metadata": {},
   "outputs": [
    {
     "name": "stdout",
     "output_type": "stream",
     "text": [
      "<class 'pandas.core.frame.DataFrame'>\n",
      "RangeIndex: 10000 entries, 0 to 9999\n",
      "Data columns (total 19 columns):\n",
      " #   Column               Non-Null Count  Dtype  \n",
      "---  ------               --------------  -----  \n",
      " 0   ID                   10000 non-null  int64  \n",
      " 1   AGE                  10000 non-null  object \n",
      " 2   GENDER               10000 non-null  object \n",
      " 3   RACE                 10000 non-null  object \n",
      " 4   DRIVING_EXPERIENCE   10000 non-null  object \n",
      " 5   EDUCATION            10000 non-null  object \n",
      " 6   INCOME               10000 non-null  object \n",
      " 7   CREDIT_SCORE         9018 non-null   float64\n",
      " 8   VEHICLE_OWNERSHIP    10000 non-null  float64\n",
      " 9   VEHICLE_YEAR         10000 non-null  object \n",
      " 10  MARRIED              10000 non-null  float64\n",
      " 11  CHILDREN             10000 non-null  float64\n",
      " 12  POSTAL_CODE          10000 non-null  int64  \n",
      " 13  ANNUAL_MILEAGE       9043 non-null   float64\n",
      " 14  VEHICLE_TYPE         10000 non-null  object \n",
      " 15  SPEEDING_VIOLATIONS  10000 non-null  int64  \n",
      " 16  DUIS                 10000 non-null  int64  \n",
      " 17  PAST_ACCIDENTS       10000 non-null  int64  \n",
      " 18  OUTCOME              10000 non-null  float64\n",
      "dtypes: float64(6), int64(5), object(8)\n",
      "memory usage: 1.4+ MB\n"
     ]
    }
   ],
   "source": [
    "df.info()"
   ]
  },
  {
   "cell_type": "code",
   "execution_count": 11,
   "id": "1721e90a-766f-4ebb-ae19-df5f9a51474a",
   "metadata": {},
   "outputs": [
    {
     "data": {
      "text/html": [
       "<div>\n",
       "<style scoped>\n",
       "    .dataframe tbody tr th:only-of-type {\n",
       "        vertical-align: middle;\n",
       "    }\n",
       "\n",
       "    .dataframe tbody tr th {\n",
       "        vertical-align: top;\n",
       "    }\n",
       "\n",
       "    .dataframe thead th {\n",
       "        text-align: right;\n",
       "    }\n",
       "</style>\n",
       "<table border=\"1\" class=\"dataframe\">\n",
       "  <thead>\n",
       "    <tr style=\"text-align: right;\">\n",
       "      <th></th>\n",
       "      <th>count</th>\n",
       "      <th>mean</th>\n",
       "      <th>std</th>\n",
       "      <th>min</th>\n",
       "      <th>25%</th>\n",
       "      <th>50%</th>\n",
       "      <th>75%</th>\n",
       "      <th>max</th>\n",
       "    </tr>\n",
       "  </thead>\n",
       "  <tbody>\n",
       "    <tr>\n",
       "      <th>ID</th>\n",
       "      <td>10000.0</td>\n",
       "      <td>500521.906800</td>\n",
       "      <td>290030.768758</td>\n",
       "      <td>101.000000</td>\n",
       "      <td>249638.500000</td>\n",
       "      <td>501777.000000</td>\n",
       "      <td>753974.500000</td>\n",
       "      <td>999976.000000</td>\n",
       "    </tr>\n",
       "    <tr>\n",
       "      <th>CREDIT_SCORE</th>\n",
       "      <td>9018.0</td>\n",
       "      <td>0.515813</td>\n",
       "      <td>0.137688</td>\n",
       "      <td>0.053358</td>\n",
       "      <td>0.417191</td>\n",
       "      <td>0.525033</td>\n",
       "      <td>0.618312</td>\n",
       "      <td>0.960819</td>\n",
       "    </tr>\n",
       "    <tr>\n",
       "      <th>VEHICLE_OWNERSHIP</th>\n",
       "      <td>10000.0</td>\n",
       "      <td>0.697000</td>\n",
       "      <td>0.459578</td>\n",
       "      <td>0.000000</td>\n",
       "      <td>0.000000</td>\n",
       "      <td>1.000000</td>\n",
       "      <td>1.000000</td>\n",
       "      <td>1.000000</td>\n",
       "    </tr>\n",
       "    <tr>\n",
       "      <th>MARRIED</th>\n",
       "      <td>10000.0</td>\n",
       "      <td>0.498200</td>\n",
       "      <td>0.500022</td>\n",
       "      <td>0.000000</td>\n",
       "      <td>0.000000</td>\n",
       "      <td>0.000000</td>\n",
       "      <td>1.000000</td>\n",
       "      <td>1.000000</td>\n",
       "    </tr>\n",
       "    <tr>\n",
       "      <th>CHILDREN</th>\n",
       "      <td>10000.0</td>\n",
       "      <td>0.688800</td>\n",
       "      <td>0.463008</td>\n",
       "      <td>0.000000</td>\n",
       "      <td>0.000000</td>\n",
       "      <td>1.000000</td>\n",
       "      <td>1.000000</td>\n",
       "      <td>1.000000</td>\n",
       "    </tr>\n",
       "    <tr>\n",
       "      <th>POSTAL_CODE</th>\n",
       "      <td>10000.0</td>\n",
       "      <td>19864.548400</td>\n",
       "      <td>18915.613855</td>\n",
       "      <td>10238.000000</td>\n",
       "      <td>10238.000000</td>\n",
       "      <td>10238.000000</td>\n",
       "      <td>32765.000000</td>\n",
       "      <td>92101.000000</td>\n",
       "    </tr>\n",
       "    <tr>\n",
       "      <th>ANNUAL_MILEAGE</th>\n",
       "      <td>9043.0</td>\n",
       "      <td>11697.003207</td>\n",
       "      <td>2818.434528</td>\n",
       "      <td>2000.000000</td>\n",
       "      <td>10000.000000</td>\n",
       "      <td>12000.000000</td>\n",
       "      <td>14000.000000</td>\n",
       "      <td>22000.000000</td>\n",
       "    </tr>\n",
       "    <tr>\n",
       "      <th>SPEEDING_VIOLATIONS</th>\n",
       "      <td>10000.0</td>\n",
       "      <td>1.482900</td>\n",
       "      <td>2.241966</td>\n",
       "      <td>0.000000</td>\n",
       "      <td>0.000000</td>\n",
       "      <td>0.000000</td>\n",
       "      <td>2.000000</td>\n",
       "      <td>22.000000</td>\n",
       "    </tr>\n",
       "    <tr>\n",
       "      <th>DUIS</th>\n",
       "      <td>10000.0</td>\n",
       "      <td>0.239200</td>\n",
       "      <td>0.554990</td>\n",
       "      <td>0.000000</td>\n",
       "      <td>0.000000</td>\n",
       "      <td>0.000000</td>\n",
       "      <td>0.000000</td>\n",
       "      <td>6.000000</td>\n",
       "    </tr>\n",
       "    <tr>\n",
       "      <th>PAST_ACCIDENTS</th>\n",
       "      <td>10000.0</td>\n",
       "      <td>1.056300</td>\n",
       "      <td>1.652454</td>\n",
       "      <td>0.000000</td>\n",
       "      <td>0.000000</td>\n",
       "      <td>0.000000</td>\n",
       "      <td>2.000000</td>\n",
       "      <td>15.000000</td>\n",
       "    </tr>\n",
       "    <tr>\n",
       "      <th>OUTCOME</th>\n",
       "      <td>10000.0</td>\n",
       "      <td>0.313300</td>\n",
       "      <td>0.463858</td>\n",
       "      <td>0.000000</td>\n",
       "      <td>0.000000</td>\n",
       "      <td>0.000000</td>\n",
       "      <td>1.000000</td>\n",
       "      <td>1.000000</td>\n",
       "    </tr>\n",
       "  </tbody>\n",
       "</table>\n",
       "</div>"
      ],
      "text/plain": [
       "                       count           mean            std           min  \\\n",
       "ID                   10000.0  500521.906800  290030.768758    101.000000   \n",
       "CREDIT_SCORE          9018.0       0.515813       0.137688      0.053358   \n",
       "VEHICLE_OWNERSHIP    10000.0       0.697000       0.459578      0.000000   \n",
       "MARRIED              10000.0       0.498200       0.500022      0.000000   \n",
       "CHILDREN             10000.0       0.688800       0.463008      0.000000   \n",
       "POSTAL_CODE          10000.0   19864.548400   18915.613855  10238.000000   \n",
       "ANNUAL_MILEAGE        9043.0   11697.003207    2818.434528   2000.000000   \n",
       "SPEEDING_VIOLATIONS  10000.0       1.482900       2.241966      0.000000   \n",
       "DUIS                 10000.0       0.239200       0.554990      0.000000   \n",
       "PAST_ACCIDENTS       10000.0       1.056300       1.652454      0.000000   \n",
       "OUTCOME              10000.0       0.313300       0.463858      0.000000   \n",
       "\n",
       "                               25%            50%            75%  \\\n",
       "ID                   249638.500000  501777.000000  753974.500000   \n",
       "CREDIT_SCORE              0.417191       0.525033       0.618312   \n",
       "VEHICLE_OWNERSHIP         0.000000       1.000000       1.000000   \n",
       "MARRIED                   0.000000       0.000000       1.000000   \n",
       "CHILDREN                  0.000000       1.000000       1.000000   \n",
       "POSTAL_CODE           10238.000000   10238.000000   32765.000000   \n",
       "ANNUAL_MILEAGE        10000.000000   12000.000000   14000.000000   \n",
       "SPEEDING_VIOLATIONS       0.000000       0.000000       2.000000   \n",
       "DUIS                      0.000000       0.000000       0.000000   \n",
       "PAST_ACCIDENTS            0.000000       0.000000       2.000000   \n",
       "OUTCOME                   0.000000       0.000000       1.000000   \n",
       "\n",
       "                               max  \n",
       "ID                   999976.000000  \n",
       "CREDIT_SCORE              0.960819  \n",
       "VEHICLE_OWNERSHIP         1.000000  \n",
       "MARRIED                   1.000000  \n",
       "CHILDREN                  1.000000  \n",
       "POSTAL_CODE           92101.000000  \n",
       "ANNUAL_MILEAGE        22000.000000  \n",
       "SPEEDING_VIOLATIONS      22.000000  \n",
       "DUIS                      6.000000  \n",
       "PAST_ACCIDENTS           15.000000  \n",
       "OUTCOME                   1.000000  "
      ]
     },
     "execution_count": 11,
     "metadata": {},
     "output_type": "execute_result"
    }
   ],
   "source": [
    "df.describe().T"
   ]
  },
  {
   "cell_type": "code",
   "execution_count": 17,
   "id": "2f2133fe-0d0b-4d8e-92c1-8aa57df27cce",
   "metadata": {},
   "outputs": [
    {
     "name": "stdout",
     "output_type": "stream",
     "text": [
      "ID                       0\n",
      "AGE                      0\n",
      "GENDER                   0\n",
      "RACE                     0\n",
      "DRIVING_EXPERIENCE       0\n",
      "EDUCATION                0\n",
      "INCOME                   0\n",
      "CREDIT_SCORE           982\n",
      "VEHICLE_OWNERSHIP        0\n",
      "VEHICLE_YEAR             0\n",
      "MARRIED                  0\n",
      "CHILDREN                 0\n",
      "POSTAL_CODE              0\n",
      "ANNUAL_MILEAGE         957\n",
      "VEHICLE_TYPE             0\n",
      "SPEEDING_VIOLATIONS      0\n",
      "DUIS                     0\n",
      "PAST_ACCIDENTS           0\n",
      "OUTCOME                  0\n",
      "dtype: int64\n"
     ]
    }
   ],
   "source": [
    "#Identify missing data\n",
    "print(df.isnull().sum())  # Cuenta cuántos valores nulos hay por columna"
   ]
  },
  {
   "cell_type": "code",
   "execution_count": 21,
   "id": "057490bf-ad8a-4ded-87ec-1286d1c97f02",
   "metadata": {},
   "outputs": [
    {
     "data": {
      "text/plain": [
       "<Axes: >"
      ]
     },
     "execution_count": 21,
     "metadata": {},
     "output_type": "execute_result"
    },
    {
     "data": {
      "image/png": "[encoded data removed]",
      "text/plain": [
       "<Figure size 640x480 with 1 Axes>"
      ]
     },
     "metadata": {},
     "output_type": "display_data"
    }
   ],
   "source": [
    "#To handle the missing data we need to check the distribution\n",
    "#If normally distributed → fill with mean\n",
    "#If skewed → fill with median\n",
    "\n",
    "df['CREDIT_SCORE'].hist()"
   ]
  },
  {
   "cell_type": "code",
   "execution_count": 25,
   "id": "ed21faca-ac54-48f8-9772-3f87d663e34b",
   "metadata": {},
   "outputs": [],
   "source": [
    "df['CREDIT_SCORE'] = df['CREDIT_SCORE'].fillna(df['CREDIT_SCORE'].mean())"
   ]
  },
  {
   "cell_type": "code",
   "execution_count": 27,
   "id": "033ab80e-4ec6-4934-9ba0-649473e4c2f8",
   "metadata": {},
   "outputs": [
    {
     "data": {
      "text/plain": [
       "<Axes: >"
      ]
     },
     "execution_count": 27,
     "metadata": {},
     "output_type": "execute_result"
    },
    {
     "data": {
      "image/png": "[encoded data removed]",
      "text/plain": [
       "<Figure size 640x480 with 1 Axes>"
      ]
     },
     "metadata": {},
     "output_type": "display_data"
    }
   ],
   "source": [
    "#To handle the missing data we need to check the distribution\n",
    "#If normally distributed → fill with mean\n",
    "#If skewed → fill with median\n",
    "\n",
    "df['ANNUAL_MILEAGE'].hist()"
   ]
  },
  {
   "cell_type": "code",
   "execution_count": 55,
   "id": "d3500f53-6fea-458e-9cce-ff494c80e9b3",
   "metadata": {},
   "outputs": [],
   "source": [
    "df['ANNUAL_MILEAGE'] = df['ANNUAL_MILEAGE'].fillna(df['ANNUAL_MILEAGE'].mean())"
   ]
  },
  {
   "cell_type": "code",
   "execution_count": 31,
   "id": "4ddf9d4a-9bb5-46af-8e6a-516f9fb6284f",
   "metadata": {},
   "outputs": [
    {
     "name": "stdout",
     "output_type": "stream",
     "text": [
      "ID                     0\n",
      "AGE                    0\n",
      "GENDER                 0\n",
      "RACE                   0\n",
      "DRIVING_EXPERIENCE     0\n",
      "EDUCATION              0\n",
      "INCOME                 0\n",
      "CREDIT_SCORE           0\n",
      "VEHICLE_OWNERSHIP      0\n",
      "VEHICLE_YEAR           0\n",
      "MARRIED                0\n",
      "CHILDREN               0\n",
      "POSTAL_CODE            0\n",
      "ANNUAL_MILEAGE         0\n",
      "VEHICLE_TYPE           0\n",
      "SPEEDING_VIOLATIONS    0\n",
      "DUIS                   0\n",
      "PAST_ACCIDENTS         0\n",
      "OUTCOME                0\n",
      "dtype: int64\n"
     ]
    }
   ],
   "source": [
    "print(df.isnull().sum())"
   ]
  },
  {
   "cell_type": "code",
   "execution_count": 43,
   "id": "44661bf7-30db-44f4-b1eb-ebff56fd2de0",
   "metadata": {},
   "outputs": [
    {
     "name": "stdout",
     "output_type": "stream",
     "text": [
      "Requirement already satisfied: ydata_profiling in /opt/anaconda3/lib/python3.12/site-packages (4.12.2)\n",
      "Requirement already satisfied: scipy<1.16,>=1.4.1 in /opt/anaconda3/lib/python3.12/site-packages (from ydata_profiling) (1.13.1)\n",
      "Requirement already satisfied: pandas!=1.4.0,<3,>1.1 in /opt/anaconda3/lib/python3.12/site-packages (from ydata_profiling) (2.2.2)\n",
      "Requirement already satisfied: matplotlib>=3.5 in /opt/anaconda3/lib/python3.12/site-packages (from ydata_profiling) (3.8.4)\n",
      "Requirement already satisfied: pydantic>=2 in /opt/anaconda3/lib/python3.12/site-packages (from ydata_profiling) (2.10.6)\n",
      "Requirement already satisfied: PyYAML<6.1,>=5.0.0 in /opt/anaconda3/lib/python3.12/site-packages (from ydata_profiling) (6.0.1)\n",
      "Requirement already satisfied: jinja2<3.2,>=2.11.1 in /opt/anaconda3/lib/python3.12/site-packages (from ydata_profiling) (3.1.4)\n",
      "Requirement already satisfied: visions<0.8.0,>=0.7.5 in /opt/anaconda3/lib/python3.12/site-packages (from visions[type_image_path]<0.8.0,>=0.7.5->ydata_profiling) (0.7.6)\n",
      "Requirement already satisfied: numpy<2.2,>=1.16.0 in /opt/anaconda3/lib/python3.12/site-packages (from ydata_profiling) (1.26.4)\n",
      "Requirement already satisfied: htmlmin==0.1.12 in /opt/anaconda3/lib/python3.12/site-packages (from ydata_profiling) (0.1.12)\n",
      "Requirement already satisfied: phik<0.13,>=0.11.1 in /opt/anaconda3/lib/python3.12/site-packages (from ydata_profiling) (0.12.4)\n",
      "Requirement already satisfied: requests<3,>=2.24.0 in /opt/anaconda3/lib/python3.12/site-packages (from ydata_profiling) (2.32.2)\n",
      "Requirement already satisfied: tqdm<5,>=4.48.2 in /opt/anaconda3/lib/python3.12/site-packages (from ydata_profiling) (4.66.4)\n",
      "Requirement already satisfied: seaborn<0.14,>=0.10.1 in /opt/anaconda3/lib/python3.12/site-packages (from ydata_profiling) (0.13.2)\n",
      "Requirement already satisfied: multimethod<2,>=1.4 in /opt/anaconda3/lib/python3.12/site-packages (from ydata_profiling) (1.12)\n",
      "Requirement already satisfied: statsmodels<1,>=0.13.2 in /opt/anaconda3/lib/python3.12/site-packages (from ydata_profiling) (0.14.2)\n",
      "Requirement already satisfied: typeguard<5,>=3 in /opt/anaconda3/lib/python3.12/site-packages (from ydata_profiling) (4.4.2)\n",
      "Requirement already satisfied: imagehash==4.3.1 in /opt/anaconda3/lib/python3.12/site-packages (from ydata_profiling) (4.3.1)\n",
      "Requirement already satisfied: wordcloud>=1.9.3 in /opt/anaconda3/lib/python3.12/site-packages (from ydata_profiling) (1.9.4)\n",
      "Requirement already satisfied: dacite>=1.8 in /opt/anaconda3/lib/python3.12/site-packages (from ydata_profiling) (1.9.2)\n",
      "Requirement already satisfied: PyWavelets in /opt/anaconda3/lib/python3.12/site-packages (from imagehash==4.3.1->ydata_profiling) (1.5.0)\n",
      "Requirement already satisfied: pillow in /opt/anaconda3/lib/python3.12/site-packages (from imagehash==4.3.1->ydata_profiling) (10.3.0)\n",
      "Requirement already satisfied: MarkupSafe>=2.0 in /opt/anaconda3/lib/python3.12/site-packages (from jinja2<3.2,>=2.11.1->ydata_profiling) (2.1.3)\n",
      "Requirement already satisfied: contourpy>=1.0.1 in /opt/anaconda3/lib/python3.12/site-packages (from matplotlib>=3.5->ydata_profiling) (1.2.0)\n",
      "Requirement already satisfied: cycler>=0.10 in /opt/anaconda3/lib/python3.12/site-packages (from matplotlib>=3.5->ydata_profiling) (0.11.0)\n",
      "Requirement already satisfied: fonttools>=4.22.0 in /opt/anaconda3/lib/python3.12/site-packages (from matplotlib>=3.5->ydata_profiling) (4.51.0)\n",
      "Requirement already satisfied: kiwisolver>=1.3.1 in /opt/anaconda3/lib/python3.12/site-packages (from matplotlib>=3.5->ydata_profiling) (1.4.4)\n",
      "Requirement already satisfied: packaging>=20.0 in /opt/anaconda3/lib/python3.12/site-packages (from matplotlib>=3.5->ydata_profiling) (23.2)\n",
      "Requirement already satisfied: pyparsing>=2.3.1 in /opt/anaconda3/lib/python3.12/site-packages (from matplotlib>=3.5->ydata_profiling) (3.0.9)\n",
      "Requirement already satisfied: python-dateutil>=2.7 in /opt/anaconda3/lib/python3.12/site-packages (from matplotlib>=3.5->ydata_profiling) (2.9.0.post0)\n",
      "Requirement already satisfied: pytz>=2020.1 in /opt/anaconda3/lib/python3.12/site-packages (from pandas!=1.4.0,<3,>1.1->ydata_profiling) (2024.1)\n",
      "Requirement already satisfied: tzdata>=2022.7 in /opt/anaconda3/lib/python3.12/site-packages (from pandas!=1.4.0,<3,>1.1->ydata_profiling) (2023.3)\n",
      "Requirement already satisfied: joblib>=0.14.1 in /opt/anaconda3/lib/python3.12/site-packages (from phik<0.13,>=0.11.1->ydata_profiling) (1.4.2)\n",
      "Requirement already satisfied: annotated-types>=0.6.0 in /opt/anaconda3/lib/python3.12/site-packages (from pydantic>=2->ydata_profiling) (0.6.0)\n",
      "Requirement already satisfied: pydantic-core==2.27.2 in /opt/anaconda3/lib/python3.12/site-packages (from pydantic>=2->ydata_profiling) (2.27.2)\n",
      "Requirement already satisfied: typing-extensions>=4.12.2 in /opt/anaconda3/lib/python3.12/site-packages (from pydantic>=2->ydata_profiling) (4.12.2)\n",
      "Requirement already satisfied: charset-normalizer<4,>=2 in /opt/anaconda3/lib/python3.12/site-packages (from requests<3,>=2.24.0->ydata_profiling) (2.0.4)\n",
      "Requirement already satisfied: idna<4,>=2.5 in /opt/anaconda3/lib/python3.12/site-packages (from requests<3,>=2.24.0->ydata_profiling) (3.7)\n",
      "Requirement already satisfied: urllib3<3,>=1.21.1 in /opt/anaconda3/lib/python3.12/site-packages (from requests<3,>=2.24.0->ydata_profiling) (2.2.2)\n",
      "Requirement already satisfied: certifi>=2017.4.17 in /opt/anaconda3/lib/python3.12/site-packages (from requests<3,>=2.24.0->ydata_profiling) (2024.8.30)\n",
      "Requirement already satisfied: patsy>=0.5.6 in /opt/anaconda3/lib/python3.12/site-packages (from statsmodels<1,>=0.13.2->ydata_profiling) (0.5.6)\n",
      "Requirement already satisfied: attrs>=19.3.0 in /opt/anaconda3/lib/python3.12/site-packages (from visions<0.8.0,>=0.7.5->visions[type_image_path]<0.8.0,>=0.7.5->ydata_profiling) (23.1.0)\n",
      "Requirement already satisfied: networkx>=2.4 in /opt/anaconda3/lib/python3.12/site-packages (from visions<0.8.0,>=0.7.5->visions[type_image_path]<0.8.0,>=0.7.5->ydata_profiling) (3.2.1)\n",
      "Requirement already satisfied: six in /opt/anaconda3/lib/python3.12/site-packages (from patsy>=0.5.6->statsmodels<1,>=0.13.2->ydata_profiling) (1.16.0)\n",
      "Note: you may need to restart the kernel to use updated packages.\n"
     ]
    }
   ],
   "source": [
    "pip install ydata_profiling"
   ]
  },
  {
   "cell_type": "code",
   "execution_count": 41,
   "id": "f250c758-5664-479f-bc0c-438cbfdb6be1",
   "metadata": {},
   "outputs": [],
   "source": [
    "from ydata_profiling import ProfileReport"
   ]
  },
  {
   "cell_type": "code",
   "execution_count": 45,
   "id": "03a76ffc-09e2-4522-94b3-31764ae08ac6",
   "metadata": {},
   "outputs": [],
   "source": [
    "profile = ProfileReport(df, explorative = True) _"
   ]
  },
  {
   "cell_type": "code",
   "execution_count": 47,
   "id": "9a38a27c-c96c-4334-9cb3-be21f5892038",
   "metadata": {},
   "outputs": [
    {
     "data": {
      "application/vnd.jupyter.widget-view+json": {
       "model_id": "3ce819f1e204415caf8b095dba2f9d5b",
       "version_major": 2,
       "version_minor": 0
      },
      "text/plain": [
       "Summarize dataset:   0%|          | 0/5 [00:00<?, ?it/s]"
      ]
     },
     "metadata": {},
     "output_type": "display_data"
    },
    {
     "data": {
      "application/vnd.jupyter.widget-view+json": {
       "model_id": "ed277dad9f3d4a439c08bd6e6e7b0cc8",
       "version_major": 2,
       "version_minor": 0
      },
      "text/plain": [
       "Generate report structure:   0%|          | 0/1 [00:00<?, ?it/s]"
      ]
     },
     "metadata": {},
     "output_type": "display_data"
    },
    {
     "data": {
      "application/vnd.jupyter.widget-view+json": {
       "model_id": "a20cb76c0c5a444dad03a67f4c5acf58",
       "version_major": 2,
       "version_minor": 0
      },
      "text/plain": [
       "Render HTML:   0%|          | 0/1 [00:00<?, ?it/s]"
      ]
     },
     "metadata": {},
     "output_type": "display_data"
    },
    {
     "data": {
      "application/vnd.jupyter.widget-view+json": {
       "model_id": "5838eaa058534f0da0561ba81e6d05e6",
       "version_major": 2,
       "version_minor": 0
      },
      "text/plain": [
       "Export report to file:   0%|          | 0/1 [00:00<?, ?it/s]"
      ]
     },
     "metadata": {},
     "output_type": "display_data"
    }
   ],
   "source": [
    "profile.to_file('Car_Insurance_Claim_Report.html')"
   ]
  },
  {
   "cell_type": "code",
   "execution_count": 77,
   "id": "29498954-2ddc-4f2d-aab7-f618f163e5a6",
   "metadata": {},
   "outputs": [
    {
     "data": {
      "text/html": [
       "<div>\n",
       "<style scoped>\n",
       "    .dataframe tbody tr th:only-of-type {\n",
       "        vertical-align: middle;\n",
       "    }\n",
       "\n",
       "    .dataframe tbody tr th {\n",
       "        vertical-align: top;\n",
       "    }\n",
       "\n",
       "    .dataframe thead th {\n",
       "        text-align: right;\n",
       "    }\n",
       "</style>\n",
       "<table border=\"1\" class=\"dataframe\">\n",
       "  <thead>\n",
       "    <tr style=\"text-align: right;\">\n",
       "      <th></th>\n",
       "      <th>ID</th>\n",
       "      <th>CREDIT_SCORE</th>\n",
       "      <th>VEHICLE_OWNERSHIP</th>\n",
       "      <th>MARRIED</th>\n",
       "      <th>CHILDREN</th>\n",
       "      <th>POSTAL_CODE</th>\n",
       "      <th>ANNUAL_MILEAGE</th>\n",
       "      <th>SPEEDING_VIOLATIONS</th>\n",
       "      <th>DUIS</th>\n",
       "      <th>PAST_ACCIDENTS</th>\n",
       "      <th>OUTCOME</th>\n",
       "    </tr>\n",
       "  </thead>\n",
       "  <tbody>\n",
       "    <tr>\n",
       "      <th>ID</th>\n",
       "      <td>1.000000</td>\n",
       "      <td>0.001704</td>\n",
       "      <td>0.009197</td>\n",
       "      <td>0.014826</td>\n",
       "      <td>0.001233</td>\n",
       "      <td>0.006038</td>\n",
       "      <td>-0.002217</td>\n",
       "      <td>0.008156</td>\n",
       "      <td>0.009268</td>\n",
       "      <td>0.001831</td>\n",
       "      <td>-0.010506</td>\n",
       "    </tr>\n",
       "    <tr>\n",
       "      <th>CREDIT_SCORE</th>\n",
       "      <td>0.001704</td>\n",
       "      <td>1.000000</td>\n",
       "      <td>0.312037</td>\n",
       "      <td>0.281238</td>\n",
       "      <td>0.220658</td>\n",
       "      <td>0.009040</td>\n",
       "      <td>-0.174453</td>\n",
       "      <td>0.204542</td>\n",
       "      <td>0.127366</td>\n",
       "      <td>0.180978</td>\n",
       "      <td>-0.325286</td>\n",
       "    </tr>\n",
       "    <tr>\n",
       "      <th>VEHICLE_OWNERSHIP</th>\n",
       "      <td>0.009197</td>\n",
       "      <td>0.312037</td>\n",
       "      <td>1.000000</td>\n",
       "      <td>0.175626</td>\n",
       "      <td>0.125990</td>\n",
       "      <td>-0.004866</td>\n",
       "      <td>-0.097433</td>\n",
       "      <td>0.133868</td>\n",
       "      <td>0.086567</td>\n",
       "      <td>0.119521</td>\n",
       "      <td>-0.378921</td>\n",
       "    </tr>\n",
       "    <tr>\n",
       "      <th>MARRIED</th>\n",
       "      <td>0.014826</td>\n",
       "      <td>0.281238</td>\n",
       "      <td>0.175626</td>\n",
       "      <td>1.000000</td>\n",
       "      <td>0.287009</td>\n",
       "      <td>0.012045</td>\n",
       "      <td>-0.462193</td>\n",
       "      <td>0.218855</td>\n",
       "      <td>0.120840</td>\n",
       "      <td>0.215269</td>\n",
       "      <td>-0.262104</td>\n",
       "    </tr>\n",
       "    <tr>\n",
       "      <th>CHILDREN</th>\n",
       "      <td>0.001233</td>\n",
       "      <td>0.220658</td>\n",
       "      <td>0.125990</td>\n",
       "      <td>0.287009</td>\n",
       "      <td>1.000000</td>\n",
       "      <td>0.020911</td>\n",
       "      <td>-0.447655</td>\n",
       "      <td>0.220415</td>\n",
       "      <td>0.115354</td>\n",
       "      <td>0.206295</td>\n",
       "      <td>-0.232835</td>\n",
       "    </tr>\n",
       "    <tr>\n",
       "      <th>POSTAL_CODE</th>\n",
       "      <td>0.006038</td>\n",
       "      <td>0.009040</td>\n",
       "      <td>-0.004866</td>\n",
       "      <td>0.012045</td>\n",
       "      <td>0.020911</td>\n",
       "      <td>1.000000</td>\n",
       "      <td>-0.133978</td>\n",
       "      <td>0.113686</td>\n",
       "      <td>0.038492</td>\n",
       "      <td>-0.116985</td>\n",
       "      <td>0.095889</td>\n",
       "    </tr>\n",
       "    <tr>\n",
       "      <th>ANNUAL_MILEAGE</th>\n",
       "      <td>-0.002217</td>\n",
       "      <td>-0.174453</td>\n",
       "      <td>-0.097433</td>\n",
       "      <td>-0.462193</td>\n",
       "      <td>-0.447655</td>\n",
       "      <td>-0.133978</td>\n",
       "      <td>1.000000</td>\n",
       "      <td>-0.323547</td>\n",
       "      <td>-0.116598</td>\n",
       "      <td>-0.195217</td>\n",
       "      <td>0.187154</td>\n",
       "    </tr>\n",
       "    <tr>\n",
       "      <th>SPEEDING_VIOLATIONS</th>\n",
       "      <td>0.008156</td>\n",
       "      <td>0.204542</td>\n",
       "      <td>0.133868</td>\n",
       "      <td>0.218855</td>\n",
       "      <td>0.220415</td>\n",
       "      <td>0.113686</td>\n",
       "      <td>-0.323547</td>\n",
       "      <td>1.000000</td>\n",
       "      <td>0.359838</td>\n",
       "      <td>0.443074</td>\n",
       "      <td>-0.291862</td>\n",
       "    </tr>\n",
       "    <tr>\n",
       "      <th>DUIS</th>\n",
       "      <td>0.009268</td>\n",
       "      <td>0.127366</td>\n",
       "      <td>0.086567</td>\n",
       "      <td>0.120840</td>\n",
       "      <td>0.115354</td>\n",
       "      <td>0.038492</td>\n",
       "      <td>-0.116598</td>\n",
       "      <td>0.359838</td>\n",
       "      <td>1.000000</td>\n",
       "      <td>0.259359</td>\n",
       "      <td>-0.189352</td>\n",
       "    </tr>\n",
       "    <tr>\n",
       "      <th>PAST_ACCIDENTS</th>\n",
       "      <td>0.001831</td>\n",
       "      <td>0.180978</td>\n",
       "      <td>0.119521</td>\n",
       "      <td>0.215269</td>\n",
       "      <td>0.206295</td>\n",
       "      <td>-0.116985</td>\n",
       "      <td>-0.195217</td>\n",
       "      <td>0.443074</td>\n",
       "      <td>0.259359</td>\n",
       "      <td>1.000000</td>\n",
       "      <td>-0.311495</td>\n",
       "    </tr>\n",
       "    <tr>\n",
       "      <th>OUTCOME</th>\n",
       "      <td>-0.010506</td>\n",
       "      <td>-0.325286</td>\n",
       "      <td>-0.378921</td>\n",
       "      <td>-0.262104</td>\n",
       "      <td>-0.232835</td>\n",
       "      <td>0.095889</td>\n",
       "      <td>0.187154</td>\n",
       "      <td>-0.291862</td>\n",
       "      <td>-0.189352</td>\n",
       "      <td>-0.311495</td>\n",
       "      <td>1.000000</td>\n",
       "    </tr>\n",
       "  </tbody>\n",
       "</table>\n",
       "</div>"
      ],
      "text/plain": [
       "                           ID  CREDIT_SCORE  VEHICLE_OWNERSHIP   MARRIED  \\\n",
       "ID                   1.000000      0.001704           0.009197  0.014826   \n",
       "CREDIT_SCORE         0.001704      1.000000           0.312037  0.281238   \n",
       "VEHICLE_OWNERSHIP    0.009197      0.312037           1.000000  0.175626   \n",
       "MARRIED              0.014826      0.281238           0.175626  1.000000   \n",
       "CHILDREN             0.001233      0.220658           0.125990  0.287009   \n",
       "POSTAL_CODE          0.006038      0.009040          -0.004866  0.012045   \n",
       "ANNUAL_MILEAGE      -0.002217     -0.174453          -0.097433 -0.462193   \n",
       "SPEEDING_VIOLATIONS  0.008156      0.204542           0.133868  0.218855   \n",
       "DUIS                 0.009268      0.127366           0.086567  0.120840   \n",
       "PAST_ACCIDENTS       0.001831      0.180978           0.119521  0.215269   \n",
       "OUTCOME             -0.010506     -0.325286          -0.378921 -0.262104   \n",
       "\n",
       "                     CHILDREN  POSTAL_CODE  ANNUAL_MILEAGE  \\\n",
       "ID                   0.001233     0.006038       -0.002217   \n",
       "CREDIT_SCORE         0.220658     0.009040       -0.174453   \n",
       "VEHICLE_OWNERSHIP    0.125990    -0.004866       -0.097433   \n",
       "MARRIED              0.287009     0.012045       -0.462193   \n",
       "CHILDREN             1.000000     0.020911       -0.447655   \n",
       "POSTAL_CODE          0.020911     1.000000       -0.133978   \n",
       "ANNUAL_MILEAGE      -0.447655    -0.133978        1.000000   \n",
       "SPEEDING_VIOLATIONS  0.220415     0.113686       -0.323547   \n",
       "DUIS                 0.115354     0.038492       -0.116598   \n",
       "PAST_ACCIDENTS       0.206295    -0.116985       -0.195217   \n",
       "OUTCOME             -0.232835     0.095889        0.187154   \n",
       "\n",
       "                     SPEEDING_VIOLATIONS      DUIS  PAST_ACCIDENTS   OUTCOME  \n",
       "ID                              0.008156  0.009268        0.001831 -0.010506  \n",
       "CREDIT_SCORE                    0.204542  0.127366        0.180978 -0.325286  \n",
       "VEHICLE_OWNERSHIP               0.133868  0.086567        0.119521 -0.378921  \n",
       "MARRIED                         0.218855  0.120840        0.215269 -0.262104  \n",
       "CHILDREN                        0.220415  0.115354        0.206295 -0.232835  \n",
       "POSTAL_CODE                     0.113686  0.038492       -0.116985  0.095889  \n",
       "ANNUAL_MILEAGE                 -0.323547 -0.116598       -0.195217  0.187154  \n",
       "SPEEDING_VIOLATIONS             1.000000  0.359838        0.443074 -0.291862  \n",
       "DUIS                            0.359838  1.000000        0.259359 -0.189352  \n",
       "PAST_ACCIDENTS                  0.443074  0.259359        1.000000 -0.311495  \n",
       "OUTCOME                        -0.291862 -0.189352       -0.311495  1.000000  "
      ]
     },
     "execution_count": 77,
     "metadata": {},
     "output_type": "execute_result"
    }
   ],
   "source": [
    "df.corr(numeric_only=True)"
   ]
  },
  {
   "cell_type": "code",
   "execution_count": 29,
   "id": "712a4128-8f67-4312-a5d4-c68c82694e9a",
   "metadata": {},
   "outputs": [
    {
     "data": {
      "image/png": "[encoded data removed]",
      "text/plain": [
       "<Figure size 600x600 with 1 Axes>"
      ]
     },
     "metadata": {},
     "output_type": "display_data"
    }
   ],
   "source": [
    "# Compute claim filing proportions\n",
    "claim_counts = df['OUTCOME'].value_counts()\n",
    "\n",
    "# Plot pie chart\n",
    "plt.figure(figsize=(6,6))\n",
    "plt.pie(claim_counts, labels=['No Claim', 'Filed Claim'], autopct='%1.1f%%', colors=['lightblue', 'steelblue'])\n",
    "plt.title(\"Proportion of Policyholders Filing Claims\")\n",
    "plt.show()\n"
   ]
  },
  {
   "cell_type": "markdown",
   "id": "b0361a89-3a54-4620-acaf-51f2bd995e16",
   "metadata": {},
   "source": [
    "The pie chart shows that 31.3% of policyholders file insurance claims, while 68.7% do not**, meaning most customers either don't experience incidents or choose not to file a claim."
   ]
  },
  {
   "cell_type": "markdown",
   "id": "21591b54-4428-4dc6-945a-138823c8b50e",
   "metadata": {},
   "source": [
    "Establish Key Metrics\n",
    "    Claim Filing Rate\n",
    "    Risk Profile Score\n",
    "    Fraud Likelihood Score"
   ]
  },
  {
   "cell_type": "code",
   "execution_count": 5,
   "id": "aabe950a-a1ed-4c0f-a246-1e8ed588e66a",
   "metadata": {},
   "outputs": [
    {
     "name": "stdout",
     "output_type": "stream",
     "text": [
      "Claim Filing Rate: 31.33%\n"
     ]
    },
    {
     "data": {
      "text/html": [
       "<div>\n",
       "<style scoped>\n",
       "    .dataframe tbody tr th:only-of-type {\n",
       "        vertical-align: middle;\n",
       "    }\n",
       "\n",
       "    .dataframe tbody tr th {\n",
       "        vertical-align: top;\n",
       "    }\n",
       "\n",
       "    .dataframe thead th {\n",
       "        text-align: right;\n",
       "    }\n",
       "</style>\n",
       "<table border=\"1\" class=\"dataframe\">\n",
       "  <thead>\n",
       "    <tr style=\"text-align: right;\">\n",
       "      <th></th>\n",
       "      <th>RISK_SCORE</th>\n",
       "    </tr>\n",
       "    <tr>\n",
       "      <th>OUTCOME</th>\n",
       "      <th></th>\n",
       "    </tr>\n",
       "  </thead>\n",
       "  <tbody>\n",
       "    <tr>\n",
       "      <th>0.0</th>\n",
       "      <td>3.638998</td>\n",
       "    </tr>\n",
       "    <tr>\n",
       "      <th>1.0</th>\n",
       "      <td>0.892116</td>\n",
       "    </tr>\n",
       "  </tbody>\n",
       "</table>\n",
       "</div>"
      ],
      "text/plain": [
       "         RISK_SCORE\n",
       "OUTCOME            \n",
       "0.0        3.638998\n",
       "1.0        0.892116"
      ]
     },
     "execution_count": 5,
     "metadata": {},
     "output_type": "execute_result"
    }
   ],
   "source": [
    "# Claim filing rate\n",
    "claim_filing_rate = df['OUTCOME'].mean()\n",
    "print(f\"Claim Filing Rate: {claim_filing_rate:.2%}\")\n",
    "\n",
    "# Risk Profile Score (dummy model)\n",
    "df['RISK_SCORE'] = df[['SPEEDING_VIOLATIONS', 'DUIS', 'PAST_ACCIDENTS']].sum(axis=1)\n",
    "df[['RISK_SCORE', 'OUTCOME']].groupby('OUTCOME').mean()\n"
   ]
  },
  {
   "cell_type": "markdown",
   "id": "3aebdf79-1c64-4a53-96e0-74f284e0ce40",
   "metadata": {},
   "source": [
    "External Factors Affecting Car Insurance Claims (PESTLE Analysis)\n",
    "    Political Factors we are missing the Claim_Date"
   ]
  },
  {
   "cell_type": "markdown",
   "id": "7406d9c6-e692-4e75-8925-a7a30eb90c40",
   "metadata": {},
   "source": [
    "# Example: Impact of a new DUI law (before vs after)\n",
    "df['YEAR'] = pd.to_datetime(df['CLAIM_DATE']).dt.year\n",
    "df_before = df[df['YEAR'] < 2020]  # Before law implementation\n",
    "df_after = df[df['YEAR'] >= 2020]  # After law implementation\n",
    "\n",
    "# Compare DUI-related claims before and after\n",
    "dui_rate_before = df_before[df_before['DUIS'] > 0]['OUTCOME'].mean()\n",
    "dui_rate_after = df_after[df_after['DUIS'] > 0]['OUTCOME'].mean()\n",
    "\n",
    "print(f\"DUI-related claim rate before law: {dui_rate_before:.2%}\")\n",
    "print(f\"DUI-related claim rate after law: {dui_rate_after:.2%}\")\n"
   ]
  },
  {
   "cell_type": "markdown",
   "id": "dc9ef186-3e6d-49d4-bcea-8b6b1435e08d",
   "metadata": {},
   "source": [
    "Economic Factors"
   ]
  },
  {
   "cell_type": "code",
   "execution_count": 19,
   "id": "28cf4e2b-0c94-46d9-b6c3-0171c10b7b62",
   "metadata": {},
   "outputs": [
    {
     "data": {
      "image/png": "[encoded data removed]",
      "text/plain": [
       "<Figure size 800x500 with 1 Axes>"
      ]
     },
     "metadata": {},
     "output_type": "display_data"
    }
   ],
   "source": [
    "plt.figure(figsize=(8,5))\n",
    "sns.countplot(y='INCOME', hue='OUTCOME', data=df, palette='Blues')\n",
    "plt.title(\"Number of Policyholders by Income Group & Claim Filing Status\")\n",
    "plt.xlabel(\"Count\")\n",
    "plt.ylabel(\"Income Group\")\n",
    "plt.legend(title=\"Filed Claim\", labels=[\"No\", \"Yes\"])\n",
    "plt.show()"
   ]
  },
  {
   "cell_type": "markdown",
   "id": "185a70bd-c969-48c3-a079-8bf5cfc97bb7",
   "metadata": {},
   "source": [
    "The chart shows that poverty and working-class policyholders file more claims compared to upper and middle-class individuals, while the upper-class group has the highest number of policyholders but the lowest claim rate, suggesting financial stability may reduce claim frequency."
   ]
  },
  {
   "cell_type": "code",
   "execution_count": 11,
   "id": "449afcc5-020a-49d7-ae50-99dac64e8838",
   "metadata": {},
   "outputs": [
    {
     "data": {
      "image/png": "[encoded data removed]",
      "text/plain": [
       "<Figure size 640x480 with 1 Axes>"
      ]
     },
     "metadata": {},
     "output_type": "display_data"
    }
   ],
   "source": [
    "# Claim filing by marital status\n",
    "sns.countplot(x='MARRIED', hue='OUTCOME', data=df)\n",
    "plt.title(\"Marital Status vs Claim Filing\")\n",
    "plt.show()\n"
   ]
  },
  {
   "cell_type": "markdown",
   "id": "f0f5177b-c900-4f4b-b047-0097e1a0272a",
   "metadata": {},
   "source": [
    "The chart shows that married individuals (1.0) file fewer insurance claims compared to unmarried individuals (0.0), suggesting that marriage may be associated with more cautious driving behavior and lower risk."
   ]
  },
  {
   "cell_type": "code",
   "execution_count": null,
   "id": "cca2132a-7fb3-436b-8a65-4c5775a306cf",
   "metadata": {},
   "outputs": [],
   "source": [
    "Technological Factor"
   ]
  },
  {
   "cell_type": "code",
   "execution_count": 13,
   "id": "fa055662-90c9-4193-b0a5-72d940dcfadf",
   "metadata": {},
   "outputs": [
    {
     "data": {
      "image/png": "[encoded data removed]",
      "text/plain": [
       "<Figure size 640x480 with 1 Axes>"
      ]
     },
     "metadata": {},
     "output_type": "display_data"
    }
   ],
   "source": [
    "# Checking impact of vehicle safety features on claim frequency\n",
    "sns.countplot(x='VEHICLE_TYPE', hue='OUTCOME', data=df)\n",
    "plt.title(\"Vehicle Type vs Claim Filing\")\n",
    "plt.show()"
   ]
  },
  {
   "cell_type": "markdown",
   "id": "fb5a035e-eea4-4066-a573-bec1b2aa5e05",
   "metadata": {},
   "source": [
    "The chart shows that sedan owners file significantly more claims than sports car owners, but this could be due to the higher number of sedan drivers rather than a lower risk for sports cars."
   ]
  },
  {
   "cell_type": "markdown",
   "id": "1e495550-8aed-4257-bd86-d952ecc515ec",
   "metadata": {},
   "source": [
    "Environmental Factors (but we dont have a Claim_date column in my dataset \n",
    "# Monthly trend of claim filings (for natural disasters impact)\n",
    "df['MONTH'] = pd.to_datetime(df['CLAIM_DATE']).dt.month\n",
    "sns.countplot(x='MONTH', hue='OUTCOME', data=df)\n",
    "plt.title(\"Monthly Claim Filing Trends\")\n",
    "plt.show()"
   ]
  },
  {
   "cell_type": "markdown",
   "id": "bf700ccc-0bc8-4088-97c9-64c95754ea46",
   "metadata": {},
   "source": [
    "Actionable Insights & Evidence-Based Reasoning\n",
    "   High-Risk Drivers Analysis"
   ]
  },
  {
   "cell_type": "code",
   "execution_count": 19,
   "id": "f51278a8-3344-446b-8dcc-5ea513c26c12",
   "metadata": {},
   "outputs": [
    {
     "name": "stdout",
     "output_type": "stream",
     "text": [
      "HIGH_RISK\n",
      "False    0.358163\n",
      "True     0.064748\n",
      "Name: OUTCOME, dtype: float64\n"
     ]
    },
    {
     "data": {
      "image/png": "[encoded data removed]",
      "text/plain": [
       "<Figure size 640x480 with 1 Axes>"
      ]
     },
     "metadata": {},
     "output_type": "display_data"
    }
   ],
   "source": [
    "# Drivers with more than 2 past accidents are high-risk\n",
    "df['HIGH_RISK'] = df['PAST_ACCIDENTS'] > 2\n",
    "\n",
    "# Compare claim rates\n",
    "risk_claims = df.groupby('HIGH_RISK')['OUTCOME'].mean()\n",
    "print(risk_claims)\n",
    "\n",
    "# Visualize\n",
    "sns.barplot(x=risk_claims.index, y=risk_claims.values)\n",
    "plt.xticks([0,1], ['Low Risk', 'High Risk'])\n",
    "plt.title(\"High-Risk Drivers vs Claim Filing Rate\")\n",
    "plt.show()\n"
   ]
  },
  {
   "cell_type": "code",
   "execution_count": 23,
   "id": "10a41090",
   "metadata": {},
   "outputs": [
    {
     "name": "stdout",
     "output_type": "stream",
     "text": [
      "HIGH_RISK\n",
      "False    0.358163\n",
      "True     0.064748\n",
      "Name: OUTCOME, dtype: float64\n"
     ]
    }
   ],
   "source": [
    "# Drivers with more than 2 past accidents are high-risk\n",
    "df['HIGH_RISK'] = df['PAST_ACCIDENTS'] > 2\n",
    "\n",
    "# Compare claim rates\n",
    "risk_claims = df.groupby('HIGH_RISK')['OUTCOME'].mean()\n",
    "print(risk_claims)\n"
   ]
  },
  {
   "cell_type": "markdown",
   "id": "83753db1-76db-434e-87f2-0e97aedf4bcb",
   "metadata": {},
   "source": [
    "The chart shows that low-risk drivers file claims at a significantly higher rate than high-risk drivers, which could indicate that high-risk drivers either underreport incidents, have stricter policy conditions, or represent a smaller portion of the dataset."
   ]
  },
  {
   "cell_type": "markdown",
   "id": "7c9ef85f-a66e-452a-a3f0-cf0a85c2a8f6",
   "metadata": {},
   "source": [
    "Deployment and Communication Plan\n",
    "   Risk Prediction Model (Logistic Regression)\n"
   ]
  },
  {
   "cell_type": "code",
   "execution_count": null,
   "id": "453c9f79-f8da-4ec6-995c-2950ab211c49",
   "metadata": {},
   "outputs": [],
   "source": [
    "# 1. Claim Filling Rate"
   ]
  },
  {
   "cell_type": "code",
   "execution_count": 3,
   "id": "f7bd008c-e798-4ae6-9d6d-2fe1b4388b71",
   "metadata": {},
   "outputs": [
    {
     "name": "stdout",
     "output_type": "stream",
     "text": [
      "Claim Filing Rate: 31.33%\n"
     ]
    }
   ],
   "source": [
    "claim_filing_rate = df['OUTCOME'].mean()\n",
    "print(f\"Claim Filing Rate: {claim_filing_rate:.2%}\")"
   ]
  },
  {
   "cell_type": "markdown",
   "id": "eaffc59d-1c38-4533-aca8-d4b23dadbee7",
   "metadata": {},
   "source": [
    "This means that about 1 in 3 customers (31.33%) have filed an insurance claim, while 68.67% have not. This suggests that a significant portion of policyholders experience incidents requiring claims, which could impact risk assessment, policy pricing, and claims processing efficiency."
   ]
  },
  {
   "cell_type": "code",
   "execution_count": null,
   "id": "83fd1850-cd3d-43c9-a6fa-a6569593b506",
   "metadata": {},
   "outputs": [],
   "source": [
    "# 2. Risk Profile Score\n",
    "\n",
    "#This metric evaluates the probability of a claim being filed based on customer attributes.\n",
    "#Here, we calculate risk scores based on age, past accidents, and DUIs."
   ]
  },
  {
   "cell_type": "code",
   "execution_count": 5,
   "id": "d358bcc4-9447-43e4-a2e6-74e1ed5c8a5b",
   "metadata": {},
   "outputs": [
    {
     "name": "stdout",
     "output_type": "stream",
     "text": [
      "      AGE  PAST_ACCIDENTS  DUIS   OUTCOME\n",
      "49  40-64               5     4  1.000000\n",
      "91    65+               5     4  1.000000\n",
      "37  40-64               2     4  1.000000\n",
      "23  26-39               7     0  1.000000\n",
      "0   16-25               0     0  0.718254\n",
      "21  26-39               6     0  0.500000\n",
      "15  26-39               3     2  0.428571\n",
      "1   26-39               0     0  0.416557\n",
      "45  40-64               4     3  0.333333\n",
      "8   26-39               1     3  0.333333\n"
     ]
    }
   ],
   "source": [
    "risk_profile = df.groupby(['AGE', 'PAST_ACCIDENTS', 'DUIS'])['OUTCOME'].mean().reset_index()\n",
    "risk_profile.sort_values(by='OUTCOME', ascending=False, inplace=True)\n",
    "print(risk_profile.head(10))  # Show top 10 highest-risk profiles"
   ]
  },
  {
   "cell_type": "markdown",
   "id": "5e62bf86-83d1-4c1a-ace4-0d5c84ed998f",
   "metadata": {},
   "source": [
    "✅ High-risk: Drivers 40+ years old with ≥5 past accidents & ≥4 DUIs have a 100% claim probability.\n",
    "✅ Young drivers (16-25) have a 71.8% claim probability even with no accidents/DUIs, suggesting age alone is a risk factor.\n",
    "✅ Lower-risk: Drivers with ≤3 past accidents & DUIs have a 33-43% claim probability, showing a strong link between past violations and claims."
   ]
  },
  {
   "cell_type": "code",
   "execution_count": null,
   "id": "756153d4-8fc9-4ac8-8db4-fc4beea9bbb4",
   "metadata": {},
   "outputs": [],
   "source": [
    "# 3. Correlation Between Demographic Factors and Claim Filing Likelihood\n",
    "# This checks how demographic features (e.g., age, gender, marital status, income) relate to claim filing."
   ]
  },
  {
   "cell_type": "code",
   "execution_count": 11,
   "id": "bfbed847-5983-428c-a648-3fbdbe81c73a",
   "metadata": {},
   "outputs": [
    {
     "data": {
      "image/png": "[encoded data removed]",
      "text/plain": [
       "<Figure size 800x500 with 2 Axes>"
      ]
     },
     "metadata": {},
     "output_type": "display_data"
    }
   ],
   "source": [
    "import seaborn as sns\n",
    "import matplotlib.pyplot as plt\n",
    "\n",
    "# Convert categorical columns to numerical values\n",
    "df_encoded = df.copy()\n",
    "\n",
    "# Encode AGE column into numerical categories\n",
    "age_mapping = {'16-25': 1, '26-39': 2, '40-64': 3, '65+': 4}\n",
    "df_encoded['AGE'] = df_encoded['AGE'].map(age_mapping)\n",
    "\n",
    "# Convert categorical variables to numerical\n",
    "df_encoded['GENDER'] = df_encoded['GENDER'].astype('category').cat.codes\n",
    "df_encoded['MARRIED'] = df_encoded['MARRIED'].astype(int)\n",
    "df_encoded['CHILDREN'] = df_encoded['CHILDREN'].astype(int)\n",
    "\n",
    "# Compute correlations\n",
    "correlation_matrix = df_encoded[['OUTCOME', 'AGE', 'GENDER', 'MARRIED', 'CHILDREN', 'CREDIT_SCORE']].corr()\n",
    "\n",
    "# Heatmap for visualization\n",
    "plt.figure(figsize=(8,5))\n",
    "sns.heatmap(correlation_matrix, annot=True, cmap='coolwarm', linewidths=0.5)\n",
    "plt.title(\"Correlation Between Demographics & Claim Filing Likelihood\")\n",
    "plt.show()\n"
   ]
  },
  {
   "cell_type": "markdown",
   "id": "f40ddf70-9292-4708-b3fc-12c98a3e2924",
   "metadata": {},
   "source": [
    "The heatmap reveals key patterns in claim filing behavior. Older customers (-0.45) and those with higher credit scores (-0.33) are less likely to file claims, suggesting that young, low-credit-score drivers pose higher risks and may require higher premiums. Married individuals (-0.26) and policyholders with children (-0.23) also show lower claim rates, indicating they are safer drivers and could benefit from discounts. Gender (+0.11) has minimal impact on claim likelihood, making it a weaker predictor of risk. Additionally, age correlates positively with credit score (+0.50) and marital status (+0.38), reinforcing that older, married individuals tend to be financially stable and lower-risk customers. Insurers can use these insights to refine risk-based pricing, fraud detection, and customer segmentation strategies."
   ]
  },
  {
   "cell_type": "code",
   "execution_count": null,
   "id": "761a0d3a-9347-4c90-8a5a-cdef9b073744",
   "metadata": {},
   "outputs": [],
   "source": [
    "# 4. Fraud Likelihood Score\n",
    "# This score detects suspicious claim filing patterns using key fraud indicators.\n",
    "# We analyze customers with high past accidents, multiple DUIs, and very low credit scores."
   ]
  },
  {
   "cell_type": "code",
   "execution_count": 9,
   "id": "05d8702f-b37e-4662-a6d7-8c0b8a78a7bc",
   "metadata": {},
   "outputs": [
    {
     "name": "stdout",
     "output_type": "stream",
     "text": [
      "Fraud Likelihood Score: 39.78%\n"
     ]
    }
   ],
   "source": [
    "fraud_likelihood = df[(df['PAST_ACCIDENTS'] > 5) | (df['DUIS'] > 2) | (df['CREDIT_SCORE'] < 0.3)]\n",
    "fraud_score = fraud_likelihood['OUTCOME'].mean()\n",
    "\n",
    "print(f\"Fraud Likelihood Score: {fraud_score:.2%}\")"
   ]
  },
  {
   "cell_type": "markdown",
   "id": "104c85a4-7a79-485a-9ab3-e0f3875bae0a",
   "metadata": {},
   "source": [
    "This means that **about 40% of claims show patterns that may indicate potential fraud**, such as **multiple past accidents, DUIs, or unusually high claim activity**. While not all of these cases are fraudulent, this suggests a **higher-than-average risk** that some claims may need further investigation to prevent financial losses for the insurer.  "
   ]
  },
  {
   "cell_type": "code",
   "execution_count": 29,
   "id": "82494578-490b-44bd-90f0-7226d802e0c5",
   "metadata": {},
   "outputs": [
    {
     "data": {
      "image/png": "[encoded data removed]",
      "text/plain": [
       "<Figure size 800x500 with 2 Axes>"
      ]
     },
     "metadata": {},
     "output_type": "display_data"
    }
   ],
   "source": [
    "import seaborn as sns\n",
    "import matplotlib.pyplot as plt\n",
    "\n",
    "# Seleccionar variables de interés\n",
    "corr_matrix = df[['PAST_ACCIDENTS', 'DUIS', 'SPEEDING_VIOLATIONS', 'OUTCOME']].corr()\n",
    "\n",
    "# Crear el heatmap\n",
    "plt.figure(figsize=(8,5))\n",
    "sns.heatmap(corr_matrix, annot=True, cmap=\"coolwarm\", fmt=\".2f\")\n",
    "plt.title(\"Matriz de Correlación entre Variables de Riesgo y Reclamos\")\n",
    "plt.show()\n"
   ]
  },
  {
   "cell_type": "markdown",
   "id": "498977bb-d60f-4cc9-9d6a-dc2671f05423",
   "metadata": {},
   "source": [
    "PAST_ACCIDENTS & SPEEDING_VIOLATIONS (0.44): Drivers with more past accidents tend to have more speeding violations.\n",
    "DUIS & SPEEDING_VIOLATIONS (0.36): Drivers with DUIs are more likely to receive speeding tickets.\n",
    "PAST_ACCIDENTS & DUIS (0.26): There is a weaker but still positive relationship between past accidents and DUIs."
   ]
  },
  {
   "cell_type": "code",
   "execution_count": null,
   "id": "7ade98ff-764e-45d1-b109-2c9bccef7251",
   "metadata": {},
   "outputs": [],
   "source": []
  },
  {
   "cell_type": "code",
   "execution_count": null,
   "id": "95345918-b07a-4154-a287-ae6f8c7afab1",
   "metadata": {},
   "outputs": [],
   "source": []
  },
  {
   "cell_type": "code",
   "execution_count": null,
   "id": "7603b49d-7b02-4386-b28f-fcdb5e541358",
   "metadata": {},
   "outputs": [],
   "source": []
  },
  {
   "cell_type": "code",
   "execution_count": null,
   "id": "f717ae36-f3a1-4778-9ab5-3782ecaaf572",
   "metadata": {},
   "outputs": [],
   "source": []
  },
  {
   "cell_type": "code",
   "execution_count": null,
   "id": "4600aeb4-946d-49d8-a7c8-bbca160d2b68",
   "metadata": {},
   "outputs": [],
   "source": []
  },
  {
   "cell_type": "code",
   "execution_count": null,
   "id": "b782b1e3-bf1a-4f0c-8b9e-692d768d5e84",
   "metadata": {},
   "outputs": [],
   "source": []
  },
  {
   "cell_type": "code",
   "execution_count": null,
   "id": "68cff1d5-783d-4aae-b456-fd62cac9639b",
   "metadata": {},
   "outputs": [],
   "source": []
  },
  {
   "cell_type": "code",
   "execution_count": null,
   "id": "e65a5f76-50a0-4d10-9fe6-498925e3f333",
   "metadata": {},
   "outputs": [],
   "source": []
  },
  {
   "cell_type": "code",
   "execution_count": null,
   "id": "6c4f4bb0-51ae-437e-bbdd-f3432f8cb127",
   "metadata": {},
   "outputs": [],
   "source": []
  }
 ],
 "metadata": {
  "kernelspec": {
   "display_name": "Python 3 (ipykernel)",
   "language": "python",
   "name": "python3"
  },
  "language_info": {
   "codemirror_mode": {
    "name": "ipython",
    "version": 3
   },
   "file_extension": ".py",
   "mimetype": "text/x-python",
   "name": "python",
   "nbconvert_exporter": "python",
   "pygments_lexer": "ipython3",
   "version": "3.12.4"
  }
 },
 "nbformat": 4,
 "nbformat_minor": 5
}
